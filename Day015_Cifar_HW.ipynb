{
 "cells": [
  {
   "cell_type": "markdown",
   "metadata": {},
   "source": [
    "## 『本次練習內容』\n",
    "#### 運用這幾天所學觀念搭建一個CNN分類器"
   ]
  },
  {
   "cell_type": "markdown",
   "metadata": {},
   "source": [
    "## 『本次練習目的』\n",
    "  #### 熟悉CNN分類器搭建步驟與原理\n",
    "  #### 學員們可以嘗試不同搭法，如使用不同的Maxpooling層，用GlobalAveragePooling取代Flatten等等"
   ]
  },
  {
   "cell_type": "code",
   "execution_count": 6,
   "metadata": {},
   "outputs": [],
   "source": [
    "from keras.models import Sequential\n",
    "from keras.layers import Convolution2D\n",
    "from keras.layers import MaxPooling2D\n",
    "from keras.layers import Flatten\n",
    "from keras.layers import Dense\n",
    "from keras.layers import Dropout\n",
    "from keras.layers import BatchNormalization\n",
    "from keras.datasets import cifar10\n",
    "import numpy as np\n",
    "import tensorflow as tf\n",
    "from sklearn.preprocessing import OneHotEncoder\n"
   ]
  },
  {
   "cell_type": "code",
   "execution_count": 7,
   "metadata": {},
   "outputs": [
    {
     "name": "stdout",
     "output_type": "stream",
     "text": [
      "(50000, 32, 32, 3)\n"
     ]
    }
   ],
   "source": [
    "(x_train, y_train), (x_test, y_test) = cifar10.load_data()\n",
    "\n",
    "print(x_train.shape) #(50000, 32, 32, 3)\n",
    "\n",
    "## Normalize Data\n",
    "def normalize(X_train,X_test):\n",
    "        mean = np.mean(X_train,axis=(0,1,2,3))\n",
    "        std = np.std(X_train, axis=(0, 1, 2, 3))\n",
    "        X_train = (X_train-mean)/(std+1e-7)\n",
    "        X_test = (X_test-mean)/(std+1e-7) \n",
    "        return X_train, X_test,mean,std\n",
    "    \n",
    "    \n",
    "## Normalize Training and Testset    \n",
    "x_train, x_test,mean_train,std_train = normalize(x_train, x_test) "
   ]
  },
  {
   "cell_type": "code",
   "execution_count": 8,
   "metadata": {},
   "outputs": [
    {
     "name": "stderr",
     "output_type": "stream",
     "text": [
      "C:\\Users\\user\\Anaconda3\\envs\\testAI\\lib\\site-packages\\sklearn\\preprocessing\\_encoders.py:415: FutureWarning: The handling of integer data will change in version 0.22. Currently, the categories are determined based on the range [0, max(values)], while in the future they will be determined based on the unique values.\n",
      "If you want the future behaviour and silence this warning, you can specify \"categories='auto'\".\n",
      "In case you used a LabelEncoder before this OneHotEncoder to convert the categories to integers, then you can now use the OneHotEncoder directly.\n",
      "  warnings.warn(msg, FutureWarning)\n"
     ]
    }
   ],
   "source": [
    "## OneHot Label 由(None, 1)-(None, 10)\n",
    "## ex. label=2,變成[0,0,1,0,0,0,0,0,0,0]\n",
    "one_hot=OneHotEncoder()\n",
    "y_train=one_hot.fit_transform(y_train).toarray()\n",
    "y_test=one_hot.transform(y_test).toarray()"
   ]
  },
  {
   "cell_type": "code",
   "execution_count": 10,
   "metadata": {},
   "outputs": [
    {
     "name": "stderr",
     "output_type": "stream",
     "text": [
      "C:\\Users\\user\\Anaconda3\\envs\\testAI\\lib\\site-packages\\ipykernel_launcher.py:4: UserWarning: Update your `Conv2D` call to the Keras 2 API: `Conv2D(32, (3, 3), input_shape=(32, 32, 3..., activation=\"relu\")`\n",
      "  after removing the cwd from sys.path.\n",
      "C:\\Users\\user\\Anaconda3\\envs\\testAI\\lib\\site-packages\\ipykernel_launcher.py:12: UserWarning: Update your `Conv2D` call to the Keras 2 API: `Conv2D(32, (3, 3), input_shape=(32, 32, 3..., activation=\"relu\")`\n",
      "  if sys.path[0] == '':\n",
      "C:\\Users\\user\\Anaconda3\\envs\\testAI\\lib\\site-packages\\ipykernel_launcher.py:20: UserWarning: Update your `Dense` call to the Keras 2 API: `Dense(activation=\"relu\", units=100)`\n",
      "C:\\Users\\user\\Anaconda3\\envs\\testAI\\lib\\site-packages\\ipykernel_launcher.py:23: UserWarning: Update your `Dense` call to the Keras 2 API: `Dense(activation=\"softmax\", units=10)`\n"
     ]
    },
    {
     "name": "stdout",
     "output_type": "stream",
     "text": [
      "_________________________________________________________________\n",
      "Layer (type)                 Output Shape              Param #   \n",
      "=================================================================\n",
      "conv2d_7 (Conv2D)            (None, 30, 30, 32)        896       \n",
      "_________________________________________________________________\n",
      "batch_normalization_7 (Batch (None, 30, 30, 32)        128       \n",
      "_________________________________________________________________\n",
      "dropout_5 (Dropout)          (None, 30, 30, 32)        0         \n",
      "_________________________________________________________________\n",
      "max_pooling2d_6 (MaxPooling2 (None, 15, 15, 32)        0         \n",
      "_________________________________________________________________\n",
      "conv2d_8 (Conv2D)            (None, 13, 13, 32)        9248      \n",
      "_________________________________________________________________\n",
      "batch_normalization_8 (Batch (None, 13, 13, 32)        128       \n",
      "_________________________________________________________________\n",
      "dropout_6 (Dropout)          (None, 13, 13, 32)        0         \n",
      "_________________________________________________________________\n",
      "max_pooling2d_7 (MaxPooling2 (None, 6, 6, 32)          0         \n",
      "_________________________________________________________________\n",
      "flatten_4 (Flatten)          (None, 1152)              0         \n",
      "_________________________________________________________________\n",
      "dense_7 (Dense)              (None, 100)               115300    \n",
      "_________________________________________________________________\n",
      "dense_8 (Dense)              (None, 10)                1010      \n",
      "=================================================================\n",
      "Total params: 126,710\n",
      "Trainable params: 126,582\n",
      "Non-trainable params: 128\n",
      "_________________________________________________________________\n",
      "None\n",
      "Epoch 1/25\n",
      "50000/50000 [==============================] - 114s 2ms/step - loss: 1.4632 - acc: 0.4803\n",
      "Epoch 2/25\n",
      "50000/50000 [==============================] - 111s 2ms/step - loss: 1.0865 - acc: 0.6144\n",
      "Epoch 3/25\n",
      "50000/50000 [==============================] - 112s 2ms/step - loss: 0.9403 - acc: 0.6688\n",
      "Epoch 4/25\n",
      "50000/50000 [==============================] - 112s 2ms/step - loss: 0.8463 - acc: 0.7041\n",
      "Epoch 5/25\n",
      "50000/50000 [==============================] - 111s 2ms/step - loss: 0.7769 - acc: 0.7275\n",
      "Epoch 6/25\n",
      "50000/50000 [==============================] - 111s 2ms/step - loss: 0.7162 - acc: 0.7471\n",
      "Epoch 7/25\n",
      "50000/50000 [==============================] - 111s 2ms/step - loss: 0.6654 - acc: 0.7641\n",
      "Epoch 8/25\n",
      "50000/50000 [==============================] - 111s 2ms/step - loss: 0.6207 - acc: 0.7815\n",
      "Epoch 9/25\n",
      "50000/50000 [==============================] - 111s 2ms/step - loss: 0.5816 - acc: 0.7929\n",
      "Epoch 10/25\n",
      "50000/50000 [==============================] - 111s 2ms/step - loss: 0.5516 - acc: 0.8036\n",
      "Epoch 11/25\n",
      "50000/50000 [==============================] - 111s 2ms/step - loss: 0.5195 - acc: 0.8144\n",
      "Epoch 12/25\n",
      "50000/50000 [==============================] - 111s 2ms/step - loss: 0.4896 - acc: 0.8236\n",
      "Epoch 13/25\n",
      "50000/50000 [==============================] - 111s 2ms/step - loss: 0.4668 - acc: 0.8346\n",
      "Epoch 14/25\n",
      "50000/50000 [==============================] - 112s 2ms/step - loss: 0.4439 - acc: 0.8421\n",
      "Epoch 15/25\n",
      "50000/50000 [==============================] - 111s 2ms/step - loss: 0.4260 - acc: 0.8468\n",
      "Epoch 16/25\n",
      "50000/50000 [==============================] - 111s 2ms/step - loss: 0.4036 - acc: 0.8549\n",
      "Epoch 17/25\n",
      "50000/50000 [==============================] - 112s 2ms/step - loss: 0.3913 - acc: 0.8598\n",
      "Epoch 18/25\n",
      "50000/50000 [==============================] - 112s 2ms/step - loss: 0.3691 - acc: 0.8676\n",
      "Epoch 19/25\n",
      "50000/50000 [==============================] - 112s 2ms/step - loss: 0.3550 - acc: 0.8728\n",
      "Epoch 20/25\n",
      "50000/50000 [==============================] - 111s 2ms/step - loss: 0.3440 - acc: 0.8770\n",
      "Epoch 21/25\n",
      "50000/50000 [==============================] - 111s 2ms/step - loss: 0.3326 - acc: 0.8802\n",
      "Epoch 22/25\n",
      "50000/50000 [==============================] - 111s 2ms/step - loss: 0.3203 - acc: 0.8838\n",
      "Epoch 23/25\n",
      "50000/50000 [==============================] - 112s 2ms/step - loss: 0.3102 - acc: 0.8875\n",
      "Epoch 24/25\n",
      "50000/50000 [==============================] - 111s 2ms/step - loss: 0.3050 - acc: 0.8876\n",
      "Epoch 25/25\n",
      "50000/50000 [==============================] - 111s 2ms/step - loss: 0.2978 - acc: 0.8917\n",
      "10000/10000 [==============================] - 9s 857us/step\n",
      "Accuracy= [1.272165116596222, 0.6948]\n"
     ]
    }
   ],
   "source": [
    "\n",
    "classifier=Sequential()\n",
    "\n",
    "#卷積組合\n",
    "classifier.add(Convolution2D(32, 3, 3, input_shape=(32,32,3), activation='relu'))\n",
    "#32,3,3,input_shape=(32,32,3),activation='relu''\n",
    "classifier.add(BatchNormalization())\n",
    "classifier.add(Dropout(0.25))\n",
    "'''自己決定MaxPooling2D放在哪裡'''\n",
    "classifier.add(MaxPooling2D(pool_size=(2,2)))\n",
    "\n",
    "#卷積組合\n",
    "classifier.add(Convolution2D(32, 3, 3, input_shape=(32,32,3), activation='relu'))\n",
    "classifier.add(BatchNormalization())\n",
    "classifier.add(Dropout(0.25))\n",
    "classifier.add(MaxPooling2D(pool_size=(2,2)))\n",
    "#flatten\n",
    "classifier.add(Flatten())\n",
    "\n",
    "#FC\n",
    "classifier.add(Dense(output_dim=100,activation='relu')) #output_dim=100,activation=relu\n",
    "\n",
    "#輸出\n",
    "classifier.add(Dense(output_dim=10,activation='softmax'))\n",
    "\n",
    "print(classifier.summary())\n",
    "#超過兩個就要選categorical_crossentrophy\n",
    "classifier.compile(optimizer = 'adam', loss = 'categorical_crossentropy', metrics = ['accuracy'])\n",
    "classifier.fit(x_train,y_train,batch_size=100,epochs=25)\n",
    "\n",
    "scores=classifier.evaluate(x_test,y_test)\n",
    "print(\"Accuracy=\",scores)"
   ]
  },
  {
   "cell_type": "markdown",
   "metadata": {},
   "source": [
    "## 預測新圖片，輸入影像前處理要與訓練時相同\n",
    "#### ((X-mean)/(std+1e-7) ):這裡的mean跟std是訓練集的\n",
    "## 維度如下方示範"
   ]
  },
  {
   "cell_type": "code",
   "execution_count": 11,
   "metadata": {},
   "outputs": [
    {
     "data": {
      "text/plain": [
       "array([[1.6278205e-03, 6.6979540e-11, 8.4615036e-05, 4.5225111e-01,\n",
       "        5.3547990e-01, 1.9831716e-05, 3.5086295e-03, 2.7111302e-08,\n",
       "        7.0280414e-03, 4.9143863e-11]], dtype=float32)"
      ]
     },
     "execution_count": 11,
     "metadata": {},
     "output_type": "execute_result"
    }
   ],
   "source": [
    "input_example=(np.zeros(shape=(1,32,32,3))-mean_train)/(std_train+1e-7) \n",
    "classifier.predict(input_example)"
   ]
  },
  {
   "cell_type": "code",
   "execution_count": 12,
   "metadata": {},
   "outputs": [
    {
     "name": "stdout",
     "output_type": "stream",
     "text": [
      "[5 8 8 ... 5 4 7]\n"
     ]
    }
   ],
   "source": [
    "prediction=classifier.predict_classes(x_test)\n",
    "print(prediction)"
   ]
  }
 ],
 "metadata": {
  "kernelspec": {
   "display_name": "Python 3",
   "language": "python",
   "name": "python3"
  },
  "language_info": {
   "codemirror_mode": {
    "name": "ipython",
    "version": 3
   },
   "file_extension": ".py",
   "mimetype": "text/x-python",
   "name": "python",
   "nbconvert_exporter": "python",
   "pygments_lexer": "ipython3",
   "version": "3.6.8"
  }
 },
 "nbformat": 4,
 "nbformat_minor": 2
}
